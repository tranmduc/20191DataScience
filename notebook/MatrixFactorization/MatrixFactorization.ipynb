{
 "cells": [
  {
   "cell_type": "code",
   "execution_count": 1,
   "metadata": {},
   "outputs": [],
   "source": [
    "import pandas as pd\n",
    "import numpy as np\n",
    "from sklearn.metrics.pairwise import cosine_similarity\n",
    "from scipy import sparse "
   ]
  },
  {
   "cell_type": "code",
   "execution_count": 7,
   "metadata": {},
   "outputs": [],
   "source": [
    "data = '../../data/rating_clean.csv'"
   ]
  },
  {
   "cell_type": "code",
   "execution_count": 9,
   "metadata": {},
   "outputs": [],
   "source": [
    "rating_df = pd.read_csv(data)"
   ]
  },
  {
   "cell_type": "code",
   "execution_count": 195,
   "metadata": {
    "scrolled": true
   },
   "outputs": [
    {
     "data": {
      "text/plain": [
       "userId     56967.0\n",
       "movieId      118.0\n",
       "rating         4.0\n",
       "Name: 2400505, dtype: float64"
      ]
     },
     "execution_count": 195,
     "metadata": {},
     "output_type": "execute_result"
    }
   ],
   "source": [
    "rating_df.loc[2400505]"
   ]
  },
  {
   "cell_type": "code",
   "execution_count": 177,
   "metadata": {
    "collapsed": true
   },
   "outputs": [
    {
     "data": {
      "text/plain": [
       "[69,\n",
       " 111,\n",
       " 175,\n",
       " 260,\n",
       " 318,\n",
       " 457,\n",
       " 541,\n",
       " 588,\n",
       " 590,\n",
       " 593,\n",
       " 608,\n",
       " 858,\n",
       " 912,\n",
       " 919,\n",
       " 1089,\n",
       " 1103,\n",
       " 1213,\n",
       " 1259,\n",
       " 1267,\n",
       " 1441,\n",
       " 1653,\n",
       " 1834,\n",
       " 1968,\n",
       " 1997,\n",
       " 2115,\n",
       " 2139,\n",
       " 2291,\n",
       " 2502,\n",
       " 2528,\n",
       " 2640,\n",
       " 2762,\n",
       " 2791,\n",
       " 2959,\n",
       " 3052,\n",
       " 3060,\n",
       " 3087,\n",
       " 3088,\n",
       " 5353,\n",
       " 8464,\n",
       " 8874,\n",
       " 48385]"
      ]
     },
     "execution_count": 177,
     "metadata": {},
     "output_type": "execute_result"
    }
   ],
   "source": [
    "id_users = np.where(rating_df[\"userId\"] == 27)[0]\n",
    "movie_ids = rating_df.iloc[id_users, 1].astype(np.int32).tolist()\n",
    "ratings  = rating_df.iloc[id_users, 2].tolist()\n",
    "movie_ids"
   ]
  },
  {
   "cell_type": "code",
   "execution_count": 196,
   "metadata": {},
   "outputs": [],
   "source": [
    "def  get_item_rated_by_user(df,user_id):\n",
    "    '''\n",
    "    get all items which are rated by user user_id, and the corresponding ratings\n",
    "    '''\n",
    "    id_users = np.where(df[\"userId\"] == user_id)[0]\n",
    "    movie_ids = df.iloc[id_users, 1].astype(np.int32)\n",
    "    ratings  = df.iloc[id_users, 2]\n",
    "    res = (movie_ids, ratings)\n",
    "    return res"
   ]
  },
  {
   "cell_type": "code",
   "execution_count": 188,
   "metadata": {},
   "outputs": [],
   "source": [
    "def get_user_rated_by_item(df,movie_id):\n",
    "    '''\n",
    "    get all users who rated item item_id and get corresponding ratings\n",
    "    '''\n",
    "    id_films = np.where(rating_df[\"movieId\"] == 110)[0] \n",
    "    user_ids  = df.iloc[id_films, 0].astype(np.int32)\n",
    "    ratings = df.iloc[id_films, 2]\n",
    "    \n",
    "    assert user_ids is not [] or ratings is not [], \"List empty!\"\n",
    "    res  = (user_ids, ratings)\n",
    "    return res"
   ]
  },
  {
   "cell_type": "code",
   "execution_count": 199,
   "metadata": {},
   "outputs": [],
   "source": [
    "# for i in range(0,1000):\n",
    "a = get_user_rated_by_item(rating_df, 10000000000000000000000000000000)"
   ]
  },
  {
   "cell_type": "code",
   "execution_count": 201,
   "metadata": {},
   "outputs": [
    {
     "name": "stdout",
     "output_type": "stream",
     "text": [
      "[]\n"
     ]
    }
   ],
   "source": [
    "a = np.where(rating_df[\"movieId\"] == 100000000000000000000000000000000)[0]\n",
    "print(a)"
   ]
  },
  {
   "cell_type": "code",
   "execution_count": null,
   "metadata": {},
   "outputs": [],
   "source": []
  },
  {
   "cell_type": "code",
   "execution_count": null,
   "metadata": {},
   "outputs": [],
   "source": []
  },
  {
   "cell_type": "code",
   "execution_count": null,
   "metadata": {},
   "outputs": [],
   "source": []
  }
 ],
 "metadata": {
  "kernelspec": {
   "display_name": "Python 2",
   "language": "python",
   "name": "python2"
  },
  "language_info": {
   "codemirror_mode": {
    "name": "ipython",
    "version": 3
   },
   "file_extension": ".py",
   "mimetype": "text/x-python",
   "name": "python",
   "nbconvert_exporter": "python",
   "pygments_lexer": "ipython3",
   "version": "3.7.3"
  }
 },
 "nbformat": 4,
 "nbformat_minor": 2
}
